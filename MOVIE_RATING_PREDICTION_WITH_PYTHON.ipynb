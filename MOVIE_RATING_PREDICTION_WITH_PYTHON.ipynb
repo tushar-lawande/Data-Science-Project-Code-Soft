{
  "nbformat": 4,
  "nbformat_minor": 0,
  "metadata": {
    "colab": {
      "provenance": [],
      "authorship_tag": "ABX9TyNUHn2V0cFZ12okckbUXgSr",
      "include_colab_link": true
    },
    "kernelspec": {
      "name": "python3",
      "display_name": "Python 3"
    },
    "language_info": {
      "name": "python"
    }
  },
  "cells": [
    {
      "cell_type": "markdown",
      "metadata": {
        "id": "view-in-github",
        "colab_type": "text"
      },
      "source": [
        "<a href=\"https://colab.research.google.com/github/tushar-lawande/Data-Science-Project-Code-Soft/blob/main/MOVIE_RATING_PREDICTION_WITH_PYTHON.ipynb\" target=\"_parent\"><img src=\"https://colab.research.google.com/assets/colab-badge.svg\" alt=\"Open In Colab\"/></a>"
      ]
    },
    {
      "cell_type": "code",
      "execution_count": 6,
      "metadata": {
        "colab": {
          "base_uri": "https://localhost:8080/"
        },
        "id": "-32CKsURNwFe",
        "outputId": "ee7dada5-020a-4711-f79c-4d9dab43cacb"
      },
      "outputs": [
        {
          "output_type": "stream",
          "name": "stdout",
          "text": [
            "One or more of the columns 'genre', 'director', 'actors' not found in the DataFrame.\n"
          ]
        }
      ],
      "source": [
        "import pandas as pd\n",
        "from sklearn.model_selection import train_test_split\n",
        "from sklearn.linear_model import LinearRegression\n",
        "from sklearn.metrics import mean_squared_error\n",
        "from sklearn.preprocessing import OneHotEncoder\n",
        "\n",
        "# Load the dataset\n",
        "data = pd.read_csv('/content/IMDb Movies India.csv', encoding='latin1')\n",
        "\n",
        "# Check for the existence of the columns\n",
        "if 'genre' in data.columns and 'director' in data.columns and 'actors' in data.columns:\n",
        "    # Drop rows with missing values in 'genre', 'director', and 'actors' columns\n",
        "    data = data.dropna(subset=['genre', 'director', 'actors'])\n",
        "\n",
        "    # Select relevant features and target\n",
        "    X = data[['genre', 'director', 'actors']]\n",
        "    y = data['avg_vote']\n",
        "\n",
        "    # Perform one-hot encoding on categorical features\n",
        "    encoder = OneHotEncoder(sparse=False, handle_unknown='ignore')\n",
        "    X_encoded = encoder.fit_transform(X)\n",
        "\n",
        "    # Split the data into training and test sets\n",
        "    X_train, X_test, y_train, y_test = train_test_split(X_encoded, y, test_size=0.2, random_state=42)\n",
        "\n",
        "    # Train the model\n",
        "    model = LinearRegression()\n",
        "    model.fit(X_train, y_train)\n",
        "\n",
        "    # Make predictions\n",
        "    y_pred = model.predict(X_test)\n",
        "\n",
        "    # Evaluate the model\n",
        "    mse = mean_squared_error(y_test, y_pred)\n",
        "    print(\"Mean Squared Error:\", mse)\n",
        "else:\n",
        "    print(\"One or more of the columns 'genre', 'director', 'actors' not found in the DataFrame.\")\n"
      ]
    }
  ]
}